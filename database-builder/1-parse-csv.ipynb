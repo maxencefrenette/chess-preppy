{
 "cells": [
  {
   "cell_type": "code",
   "execution_count": null,
   "metadata": {},
   "outputs": [],
   "source": [
    "import os\r\n",
    "import chess\r\n",
    "import chess.pgn\r\n",
    "import pandas as pd"
   ]
  },
  {
   "cell_type": "code",
   "execution_count": null,
   "metadata": {},
   "outputs": [],
   "source": [
    "input_file = os.path.abspath('../data/raw/lichess_db_standard_rated_2021-03.pgn')\r\n",
    "output_file = os.path.abspath('../data/indexed/positions.parquet')\r\n",
    "\r\n",
    "num_games = 100\r\n",
    "num_positions_per_game = 10"
   ]
  },
  {
   "cell_type": "code",
   "execution_count": null,
   "metadata": {},
   "outputs": [],
   "source": [
    "positions_columns = [\r\n",
    "        'fen',\r\n",
    "        'white_wins',\r\n",
    "        'black_wins',\r\n",
    "        'draws',\r\n",
    "    ]\r\n",
    "positions = pd.DataFrame(columns=positions_columns)\r\n",
    "positions.set_index('fen', inplace=True)\r\n",
    "\r\n",
    "moves = pd.DataFrame(\r\n",
    "    columns=[\r\n",
    "        'fen',\r\n",
    "        'move',\r\n",
    "        'times_played'\r\n",
    "    ],\r\n",
    ")\r\n",
    "moves.set_index(['fen', 'move'], inplace=True)"
   ]
  },
  {
   "cell_type": "code",
   "execution_count": null,
   "metadata": {},
   "outputs": [],
   "source": [
    "# Parse and add games\r\n",
    "with open(input_file) as pgn_file:\r\n",
    "\tboard = chess.Board()\r\n",
    "\r\n",
    "\tfor _ in range(num_games):\r\n",
    "\t\tboard.reset()\r\n",
    "\t\tgame = chess.pgn.read_game(pgn_file)\r\n",
    "\t\tresult = game.headers['Result']\r\n",
    "\t\t\r\n",
    "\t\tfor move in game.mainline_moves():\r\n",
    "\t\t\tfen = board.fen()\r\n",
    "\t\t\r\n",
    "\t\t\tif fen not in positions.index:\r\n",
    "\t\t\t\tpositions.loc[fen] = 0\r\n",
    "\t\t\t\r\n",
    "\t\t\tif result == \"1-0\":\r\n",
    "\t\t\t\tpositions.at[fen, \"white_wins\"] += 1\r\n",
    "\t\t\telif result == \"1/2-1/2\":\r\n",
    "\t\t\t\tpositions.at[fen, \"draws\"] += 1\r\n",
    "\t\t\telif result == \"0-1\":\r\n",
    "\t\t\t\tpositions.at[fen, \"black_wins\"] += 1\r\n",
    "\t\t\telse:\r\n",
    "\t\t\t\traise f\"Invalid result: {result}\"\r\n",
    "\t\t\t\r\n",
    "\t\t\tboard.push(move)\r\n"
   ]
  },
  {
   "cell_type": "code",
   "execution_count": null,
   "metadata": {},
   "outputs": [],
   "source": [
    "positions.to_parquet(output_file)"
   ]
  }
 ],
 "metadata": {
  "interpreter": {
   "hash": "63fd5069d213b44bf678585dea6b12cceca9941eaf7f819626cde1f2670de90d"
  },
  "kernelspec": {
   "display_name": "Python 3.9.5 64-bit",
   "name": "python3"
  },
  "language_info": {
   "codemirror_mode": {
    "name": "ipython",
    "version": 3
   },
   "file_extension": ".py",
   "mimetype": "text/x-python",
   "name": "python",
   "nbconvert_exporter": "python",
   "pygments_lexer": "ipython3",
   "version": "3.9.5"
  },
  "metadata": {
   "interpreter": {
    "hash": "63fd5069d213b44bf678585dea6b12cceca9941eaf7f819626cde1f2670de90d"
   }
  }
 },
 "nbformat": 4,
 "nbformat_minor": 2
}